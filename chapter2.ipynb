{
 "cells": [
  {
   "cell_type": "markdown",
   "metadata": {},
   "source": [
    "## 2.1使用多个界定符分割字符串"
   ]
  },
  {
   "cell_type": "markdown",
   "metadata": {},
   "source": [
    "### 关于正则表达式可以看这个链接[正则表达式](https://deerchao.net/tutorials/regex/regex.htm#escape)"
   ]
  },
  {
   "cell_type": "markdown",
   "metadata": {},
   "source": [
    "在Python的string前面加上‘r’， 是为了告诉编译器这个string是个raw string，不要转意backslash '\\' 。 例如，\\n 在raw string中，是两个字符，\\和n， 而不会转意为换行符。由于正则表达式和 \\ 会有冲突，因此，当一个字符串使用了正则表达式后，最好在前面加上'r'。"
   ]
  },
  {
   "cell_type": "code",
   "execution_count": 12,
   "metadata": {},
   "outputs": [
    {
     "data": {
      "text/plain": [
       "['asdf', ' ', 'fjdk', ';', 'afed', ',', 'fjek', ',', 'asdf', ',', 'foo']"
      ]
     },
     "execution_count": 12,
     "metadata": {},
     "output_type": "execute_result"
    }
   ],
   "source": [
    "# 保留分割字符 重新构造原来的字符串\n",
    "import re\n",
    "line = 'asdf fjdk; afed, fjek,asdf, foo'\n",
    "# python中()叫捕获分组 其中匹配的文本也会出现在结果列表中\n",
    "fileds = re.split(r'(;|,|\\s)\\s*',line)\n",
    "fileds"
   ]
  },
  {
   "cell_type": "code",
   "execution_count": 10,
   "metadata": {},
   "outputs": [
    {
     "data": {
      "text/plain": [
       "['asdf', 'fjdk', 'afed', 'fjek', 'asdf', 'foo']"
      ]
     },
     "execution_count": 10,
     "metadata": {},
     "output_type": "execute_result"
    }
   ],
   "source": [
    "fileds = re.split(r'[;,\\s]\\s*',line)\n",
    "fileds"
   ]
  },
  {
   "cell_type": "code",
   "execution_count": 13,
   "metadata": {},
   "outputs": [],
   "source": [
    "values = fileds[::2]\n",
    "delimiters = fileds[1::2]"
   ]
  },
  {
   "cell_type": "code",
   "execution_count": 14,
   "metadata": {},
   "outputs": [
    {
     "data": {
      "text/plain": [
       "'asdf fjdk;afed,fjek,asdf,'"
      ]
     },
     "execution_count": 14,
     "metadata": {},
     "output_type": "execute_result"
    }
   ],
   "source": [
    "''.join(v+d for v,d in zip(values,delimiters))"
   ]
  },
  {
   "cell_type": "code",
   "execution_count": null,
   "metadata": {},
   "outputs": [],
   "source": []
  },
  {
   "cell_type": "markdown",
   "metadata": {},
   "source": [
    "## 2.2字符串开头或结尾匹配"
   ]
  },
  {
   "cell_type": "code",
   "execution_count": null,
   "metadata": {},
   "outputs": [],
   "source": [
    "检查字符串开头或结尾的一个简单方法是使用 str.startswith() 或者是 str.endswith() 方法。"
   ]
  },
  {
   "cell_type": "code",
   "execution_count": 19,
   "metadata": {},
   "outputs": [
    {
     "data": {
      "text/plain": [
       "['chapter2.ipynb', 'chapter 1.ipynb', '.ipynb_checkpoints']"
      ]
     },
     "execution_count": 19,
     "metadata": {},
     "output_type": "execute_result"
    }
   ],
   "source": [
    "import os\n",
    "filename = os.listdir('.')\n",
    "filename"
   ]
  },
  {
   "cell_type": "code",
   "execution_count": 25,
   "metadata": {},
   "outputs": [],
   "source": [
    "# python any() 如果都为空、0、false，则返回false，如果不都为空、0、false，则返回true。\n",
    "# python all() 如果iterable的所有元素不为0、''、False或者iterable为空，all(iterable)返回True，否则返回False；"
   ]
  },
  {
   "cell_type": "code",
   "execution_count": 33,
   "metadata": {},
   "outputs": [
    {
     "name": "stdout",
     "output_type": "stream",
     "text": [
      "True\n",
      "False\n"
     ]
    }
   ],
   "source": [
    "print(any(name.endswith('.ipynb') for name in filename))\n",
    "print(all(name.endswith('.ipynb') for name in filename))"
   ]
  },
  {
   "cell_type": "markdown",
   "metadata": {},
   "source": [
    "但是这两个方法只能转入元组或`str`作为参数 `list`或`set`都会报错，必须先转化为元组或`str`"
   ]
  },
  {
   "cell_type": "code",
   "execution_count": 46,
   "metadata": {},
   "outputs": [
    {
     "name": "stdout",
     "output_type": "stream",
     "text": [
      "错误\n"
     ]
    }
   ],
   "source": [
    "choice = ['http']\n",
    "url = 'http://www.baidu.com'\n",
    "try: \n",
    "    url.startswith(choice)\n",
    "except:\n",
    "    print(\"错误\")"
   ]
  },
  {
   "cell_type": "markdown",
   "metadata": {},
   "source": [
    "同时这两个也可以用来"
   ]
  },
  {
   "cell_type": "code",
   "execution_count": null,
   "metadata": {},
   "outputs": [],
   "source": []
  },
  {
   "cell_type": "code",
   "execution_count": null,
   "metadata": {},
   "outputs": [],
   "source": []
  }
 ],
 "metadata": {
  "kernelspec": {
   "display_name": "Python 3",
   "language": "python",
   "name": "python3"
  },
  "language_info": {
   "codemirror_mode": {
    "name": "ipython",
    "version": 3
   },
   "file_extension": ".py",
   "mimetype": "text/x-python",
   "name": "python",
   "nbconvert_exporter": "python",
   "pygments_lexer": "ipython3",
   "version": "3.7.3"
  }
 },
 "nbformat": 4,
 "nbformat_minor": 2
}
